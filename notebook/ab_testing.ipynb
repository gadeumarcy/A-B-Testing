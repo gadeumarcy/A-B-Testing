{
 "cells": [
  {
   "cell_type": "markdown",
   "id": "e479ef55",
   "metadata": {},
   "source": [
    "# Projet : A/B Testing"
   ]
  },
  {
   "cell_type": "markdown",
   "id": "ecfe9940",
   "metadata": {},
   "source": [
    "### Contexte:  L’A/B testing est une méthode utilisée pour comparer deux versions d'un produit ou d'un service afin de déterminer laquelle est la plus performante. Ce projet est très populaire dans le marketing, les produits digitaux et l’e-commerce pour optimiser des campagnes ou des fonctionnalités.\n",
    "\n",
    "### Objectifs\n",
    "### -Mettre en place une expérimentation contrôlée pour comparer deux groupes. \n",
    "### -Analyser les résultats avec des statistiques pour choisir la version gagnante"
   ]
  },
  {
   "cell_type": "markdown",
   "id": "c2581ac8",
   "metadata": {},
   "source": [
    "## Importation des bilblithèques"
   ]
  },
  {
   "cell_type": "code",
   "execution_count": 50,
   "id": "57ee5597",
   "metadata": {},
   "outputs": [],
   "source": [
    "import pandas as pd\n",
    "import numpy as np\n",
    "import matplotlib.pyplot as plt\n",
    "from scipy.stats import norm\n",
    "from scipy.stats import chi2_contingency"
   ]
  },
  {
   "cell_type": "markdown",
   "id": "705bfa16",
   "metadata": {},
   "source": [
    "## Chargement des données"
   ]
  },
  {
   "cell_type": "code",
   "execution_count": 3,
   "id": "8ba997f9",
   "metadata": {},
   "outputs": [],
   "source": [
    "df = pd.read_csv(\"ab_data.csv\")"
   ]
  },
  {
   "cell_type": "code",
   "execution_count": 4,
   "id": "a1dbd25f",
   "metadata": {},
   "outputs": [
    {
     "data": {
      "text/html": [
       "<div>\n",
       "<style scoped>\n",
       "    .dataframe tbody tr th:only-of-type {\n",
       "        vertical-align: middle;\n",
       "    }\n",
       "\n",
       "    .dataframe tbody tr th {\n",
       "        vertical-align: top;\n",
       "    }\n",
       "\n",
       "    .dataframe thead th {\n",
       "        text-align: right;\n",
       "    }\n",
       "</style>\n",
       "<table border=\"1\" class=\"dataframe\">\n",
       "  <thead>\n",
       "    <tr style=\"text-align: right;\">\n",
       "      <th></th>\n",
       "      <th>user_id</th>\n",
       "      <th>timestamp</th>\n",
       "      <th>group</th>\n",
       "      <th>landing_page</th>\n",
       "      <th>converted</th>\n",
       "    </tr>\n",
       "  </thead>\n",
       "  <tbody>\n",
       "    <tr>\n",
       "      <th>0</th>\n",
       "      <td>851104</td>\n",
       "      <td>2017-01-21 22:11:48.556739</td>\n",
       "      <td>control</td>\n",
       "      <td>old_page</td>\n",
       "      <td>0</td>\n",
       "    </tr>\n",
       "    <tr>\n",
       "      <th>1</th>\n",
       "      <td>804228</td>\n",
       "      <td>2017-01-12 08:01:45.159739</td>\n",
       "      <td>control</td>\n",
       "      <td>old_page</td>\n",
       "      <td>0</td>\n",
       "    </tr>\n",
       "    <tr>\n",
       "      <th>2</th>\n",
       "      <td>661590</td>\n",
       "      <td>2017-01-11 16:55:06.154213</td>\n",
       "      <td>treatment</td>\n",
       "      <td>new_page</td>\n",
       "      <td>0</td>\n",
       "    </tr>\n",
       "    <tr>\n",
       "      <th>3</th>\n",
       "      <td>853541</td>\n",
       "      <td>2017-01-08 18:28:03.143765</td>\n",
       "      <td>treatment</td>\n",
       "      <td>new_page</td>\n",
       "      <td>0</td>\n",
       "    </tr>\n",
       "    <tr>\n",
       "      <th>4</th>\n",
       "      <td>864975</td>\n",
       "      <td>2017-01-21 01:52:26.210827</td>\n",
       "      <td>control</td>\n",
       "      <td>old_page</td>\n",
       "      <td>1</td>\n",
       "    </tr>\n",
       "    <tr>\n",
       "      <th>...</th>\n",
       "      <td>...</td>\n",
       "      <td>...</td>\n",
       "      <td>...</td>\n",
       "      <td>...</td>\n",
       "      <td>...</td>\n",
       "    </tr>\n",
       "    <tr>\n",
       "      <th>294473</th>\n",
       "      <td>751197</td>\n",
       "      <td>2017-01-03 22:28:38.630509</td>\n",
       "      <td>control</td>\n",
       "      <td>old_page</td>\n",
       "      <td>0</td>\n",
       "    </tr>\n",
       "    <tr>\n",
       "      <th>294474</th>\n",
       "      <td>945152</td>\n",
       "      <td>2017-01-12 00:51:57.078372</td>\n",
       "      <td>control</td>\n",
       "      <td>old_page</td>\n",
       "      <td>0</td>\n",
       "    </tr>\n",
       "    <tr>\n",
       "      <th>294475</th>\n",
       "      <td>734608</td>\n",
       "      <td>2017-01-22 11:45:03.439544</td>\n",
       "      <td>control</td>\n",
       "      <td>old_page</td>\n",
       "      <td>0</td>\n",
       "    </tr>\n",
       "    <tr>\n",
       "      <th>294476</th>\n",
       "      <td>697314</td>\n",
       "      <td>2017-01-15 01:20:28.957438</td>\n",
       "      <td>control</td>\n",
       "      <td>old_page</td>\n",
       "      <td>0</td>\n",
       "    </tr>\n",
       "    <tr>\n",
       "      <th>294477</th>\n",
       "      <td>715931</td>\n",
       "      <td>2017-01-16 12:40:24.467417</td>\n",
       "      <td>treatment</td>\n",
       "      <td>new_page</td>\n",
       "      <td>0</td>\n",
       "    </tr>\n",
       "  </tbody>\n",
       "</table>\n",
       "<p>294478 rows × 5 columns</p>\n",
       "</div>"
      ],
      "text/plain": [
       "        user_id                   timestamp      group landing_page  converted\n",
       "0        851104  2017-01-21 22:11:48.556739    control     old_page          0\n",
       "1        804228  2017-01-12 08:01:45.159739    control     old_page          0\n",
       "2        661590  2017-01-11 16:55:06.154213  treatment     new_page          0\n",
       "3        853541  2017-01-08 18:28:03.143765  treatment     new_page          0\n",
       "4        864975  2017-01-21 01:52:26.210827    control     old_page          1\n",
       "...         ...                         ...        ...          ...        ...\n",
       "294473   751197  2017-01-03 22:28:38.630509    control     old_page          0\n",
       "294474   945152  2017-01-12 00:51:57.078372    control     old_page          0\n",
       "294475   734608  2017-01-22 11:45:03.439544    control     old_page          0\n",
       "294476   697314  2017-01-15 01:20:28.957438    control     old_page          0\n",
       "294477   715931  2017-01-16 12:40:24.467417  treatment     new_page          0\n",
       "\n",
       "[294478 rows x 5 columns]"
      ]
     },
     "execution_count": 4,
     "metadata": {},
     "output_type": "execute_result"
    }
   ],
   "source": [
    "df"
   ]
  },
  {
   "cell_type": "markdown",
   "id": "aec47d14",
   "metadata": {},
   "source": [
    "### Vérification des valeurs manquantes"
   ]
  },
  {
   "cell_type": "code",
   "execution_count": 5,
   "id": "0fc25cfc",
   "metadata": {},
   "outputs": [
    {
     "data": {
      "text/plain": [
       "user_id         0\n",
       "timestamp       0\n",
       "group           0\n",
       "landing_page    0\n",
       "converted       0\n",
       "dtype: int64"
      ]
     },
     "execution_count": 5,
     "metadata": {},
     "output_type": "execute_result"
    }
   ],
   "source": [
    "df.isnull().sum()"
   ]
  },
  {
   "cell_type": "markdown",
   "id": "073406a6",
   "metadata": {},
   "source": [
    "#### Il y'a aucune valeur manquante"
   ]
  },
  {
   "cell_type": "markdown",
   "id": "9f80f01e",
   "metadata": {},
   "source": [
    "### Vérification des incohérences"
   ]
  },
  {
   "cell_type": "code",
   "execution_count": 17,
   "id": "d80927eb",
   "metadata": {},
   "outputs": [
    {
     "name": "stdout",
     "output_type": "stream",
     "text": [
      "        user_id                   timestamp      group landing_page  converted\n",
      "22       767017  2017-01-12 22:58:14.991443    control     new_page          0\n",
      "240      733976  2017-01-11 15:11:16.407599    control     new_page          0\n",
      "308      857184  2017-01-20 07:34:59.832626  treatment     old_page          0\n",
      "327      686623  2017-01-09 14:26:40.734775  treatment     old_page          0\n",
      "357      856078  2017-01-12 12:29:30.354835  treatment     old_page          0\n",
      "...         ...                         ...        ...          ...        ...\n",
      "294014   813406  2017-01-09 06:25:33.223301  treatment     old_page          0\n",
      "294200   928506  2017-01-13 21:32:10.491309    control     new_page          0\n",
      "294252   892498  2017-01-22 01:11:10.463211  treatment     old_page          0\n",
      "294253   886135  2017-01-06 12:49:20.509403    control     new_page          0\n",
      "294331   689637  2017-01-13 11:34:28.339532    control     new_page          0\n",
      "\n",
      "[3893 rows x 5 columns]\n"
     ]
    }
   ],
   "source": [
    "incoherences = df.query(\"(group  == 'control' and landing_page == 'new_page') or\\\n",
    "    (group  == 'treatment' and landing_page == 'old_page')\")\n",
    "\n",
    "print(incoherences)\n"
   ]
  },
  {
   "cell_type": "markdown",
   "id": "c7abf68e",
   "metadata": {},
   "source": [
    "### Correction des incohérences"
   ]
  },
  {
   "cell_type": "code",
   "execution_count": 20,
   "id": "ea14f390",
   "metadata": {},
   "outputs": [
    {
     "name": "stdout",
     "output_type": "stream",
     "text": [
      "(290585, 5)\n"
     ]
    }
   ],
   "source": [
    "df_clean = df.query(\"(group  == 'control' and landing_page == 'old_page') or\\\n",
    "    (group  == 'treatment' and landing_page == 'new_page')\")\n",
    "\n",
    "print(df_clean.shape)"
   ]
  },
  {
   "cell_type": "markdown",
   "id": "d7a4ec85",
   "metadata": {},
   "source": [
    "### Vérification des doubons"
   ]
  },
  {
   "cell_type": "code",
   "execution_count": 32,
   "id": "a913cf89",
   "metadata": {},
   "outputs": [
    {
     "name": "stdout",
     "output_type": "stream",
     "text": [
      "Nombre de doublons 1\n"
     ]
    }
   ],
   "source": [
    "# Nombre total de lignes\n",
    "total_lignes = df_clean.shape[0]\n",
    "\n",
    "#Nombre d'IDs unique\n",
    "ids_uniques = df_clean[\"user_id\"].nunique()\n",
    "\n",
    "#Nombre de doublons\n",
    "doublons = total_lignes - ids_uniques\n",
    "print(\"Nombre de doublons\", doublons)"
   ]
  },
  {
   "cell_type": "markdown",
   "id": "e76e2d1e",
   "metadata": {},
   "source": [
    "#### Il y'a un seul doublon"
   ]
  },
  {
   "cell_type": "markdown",
   "id": "b664fa19",
   "metadata": {},
   "source": [
    "### Suppression des doublons"
   ]
  },
  {
   "cell_type": "code",
   "execution_count": 39,
   "id": "b1954c74",
   "metadata": {},
   "outputs": [
    {
     "name": "stdout",
     "output_type": "stream",
     "text": [
      "        user_id                   timestamp      group landing_page  converted\n",
      "0        851104  2017-01-21 22:11:48.556739    control     old_page          0\n",
      "1        804228  2017-01-12 08:01:45.159739    control     old_page          0\n",
      "2        661590  2017-01-11 16:55:06.154213  treatment     new_page          0\n",
      "3        853541  2017-01-08 18:28:03.143765  treatment     new_page          0\n",
      "4        864975  2017-01-21 01:52:26.210827    control     old_page          1\n",
      "...         ...                         ...        ...          ...        ...\n",
      "294473   751197  2017-01-03 22:28:38.630509    control     old_page          0\n",
      "294474   945152  2017-01-12 00:51:57.078372    control     old_page          0\n",
      "294475   734608  2017-01-22 11:45:03.439544    control     old_page          0\n",
      "294476   697314  2017-01-15 01:20:28.957438    control     old_page          0\n",
      "294477   715931  2017-01-16 12:40:24.467417  treatment     new_page          0\n",
      "\n",
      "[290584 rows x 5 columns]\n"
     ]
    }
   ],
   "source": [
    "df_clean  = df_clean.drop_duplicates(\"user_id\",keep=\"first\")\n",
    "print(df_clean)"
   ]
  },
  {
   "cell_type": "markdown",
   "id": "64decbb4",
   "metadata": {},
   "source": [
    "### Repartition des groupes (pie chart)"
   ]
  },
  {
   "cell_type": "code",
   "execution_count": 41,
   "metadata": {},
   "outputs": [
    {
     "name": "stdout",
     "output_type": "stream",
     "text": [
      "group\n",
      "treatment    145310\n",
      "control      145274\n",
      "Name: count, dtype: int64\n"
     ]
    }
   ],
   "source": [
    "#Compter les valeurs de la colonne group\n",
    "counts =  df_clean[\"group\"].value_counts()\n",
    "print(counts)"
   ]
  },
  {
   "cell_type": "code",
   "execution_count": 43,
   "id": "0e8f7a4a",
   "metadata": {},
   "outputs": [
    {
     "data": {
      "image/png": "[encoded data removed]",
      "text/plain": [
       "<Figure size 640x480 with 1 Axes>"
      ]
     },
     "metadata": {},
     "output_type": "display_data"
    }
   ],
   "source": [
    "plt.pie(counts,\n",
    "    labels=counts.index,#nom des groupes\n",
    "    startangle=90,\n",
    "    autopct=\"%.2f%%\", #pour afficher les porcentages\n",
    "    colors=[\"blue\",\"orange\"]\n",
    "    \n",
    "    )\n",
    "plt.title(\"Repartition des utilisateurs par groupes\")\n",
    "plt.show()"
   ]
  },
  {
   "cell_type": "markdown",
   "id": "927105ad",
   "metadata": {},
   "source": [
    "### Taux de conversion (La colonne converted  = indicateur binaire (0 ou 1) qui dit si l'utilisateur a réalié l'action attendue après vu la page. Ex: s'inscire sur le site)"
   ]
  },
  {
   "cell_type": "code",
   "execution_count": 44,
   "id": "63131ede",
   "metadata": {},
   "outputs": [
    {
     "name": "stdout",
     "output_type": "stream",
     "text": [
      "group\n",
      "control      0.120386\n",
      "treatment    0.118808\n",
      "Name: converted, dtype: float64\n"
     ]
    }
   ],
   "source": [
    "### Calcul du taux de conversion par groupe\n",
    "taux_conversion = df_clean.groupby(\"group\")[\"converted\"].mean()\n",
    "print(taux_conversion)"
   ]
  },
  {
   "cell_type": "markdown",
   "id": "6e34d493",
   "metadata": {},
   "source": [
    "#### 12.03% du groupe control ont réalié l'action attendue et 11.88% du groupe treatment ont réalisé l'action attendue. Le taux de converion du groupe control est légèrement plus élevé que celui du treatment"
   ]
  },
  {
   "cell_type": "markdown",
   "id": "ce9c76e3",
   "metadata": {},
   "source": [
    "### Défintion des hypothèses\n",
    "\n",
    "### H0: Les taux de conversion sont identiques\n",
    "### H1: Les taux de conversion sont différents"
   ]
  },
  {
   "cell_type": "markdown",
   "id": "18a872e0",
   "metadata": {},
   "source": [
    "### Test statistique"
   ]
  },
  {
   "cell_type": "markdown",
   "id": "4f097de9",
   "metadata": {},
   "source": [
    "#### Z-test pour proportions"
   ]
  },
  {
   "cell_type": "code",
   "execution_count": 49,
   "id": "3aef4780",
   "metadata": {},
   "outputs": [
    {
     "name": "stdout",
     "output_type": "stream",
     "text": [
      "Z-test pour proportions :\n",
      "- Z score : -1.3109241984234394\n",
      "- p value : 0.18988337448195103\n",
      "Pas de différence significative\n"
     ]
    }
   ],
   "source": [
    "# 1 étape :  Compter les conversions et les effectifs\n",
    "conv_control = df_clean.query(\"group  == 'control'\")[\"converted\"].sum()\n",
    "n_control = df_clean.query(\"group  == 'control'\").shape[0]\n",
    "\n",
    "conv_treatment = df_clean.query(\"group  == 'treatment'\")[\"converted\"].sum()\n",
    "n_treatment= df_clean.query(\"group  == 'treatment'\").shape[0]\n",
    "\n",
    "# 2 étape :  Proportions observées\n",
    "p_control = conv_control/n_control\n",
    "p_treatment = conv_treatment/n_treatment\n",
    "\n",
    "#3 Proportion combinée sous H0\n",
    "p_combined = (conv_control+conv_treatment)/(n_control + n_treatment)\n",
    "\n",
    "#Ecart-type\n",
    "SE = np.sqrt(p_combined * (1 - p_combined) * (1/n_control + 1/n_treatment))\n",
    "\n",
    "#Statistique Z \n",
    "z_score =  (p_treatment - p_control)/SE\n",
    "\n",
    "#p-value (bilatérale)\n",
    "p_value = 2 *(1- norm.cdf(abs(z_score)))\n",
    "\n",
    "print(\"Z-test pour proportions :\")\n",
    "print(\"- Z score :\",z_score)\n",
    "print(\"- p value :\",p_value)\n",
    "if p_value < 0.05:\n",
    "    print(\"Différence significative\")\n",
    "else:\n",
    "    print(\"Pas de différence significative\")\n"
   ]
  },
  {
   "cell_type": "markdown",
   "id": "cb072a61",
   "metadata": {},
   "source": [
    "#### chi2"
   ]
  },
  {
   "cell_type": "code",
   "execution_count": 51,
   "id": "43657677",
   "metadata": {},
   "outputs": [
    {
     "name": "stdout",
     "output_type": "stream",
     "text": [
      "Table de contingence :\n",
      " converted       0      1\n",
      "group                   \n",
      "control    127785  17489\n",
      "treatment  128046  17264\n",
      "\n",
      "Chi² test d'indépendance :\n",
      " - Chi² : 1.7035660051885058\n",
      " - ddl : 1\n",
      " - p-value : 0.19182228096235662\n",
      "Pas de différence significative\n"
     ]
    }
   ],
   "source": [
    "\n",
    "# Construire la table de contingence\n",
    "table = pd.crosstab(df_clean[\"group\"], df_clean[\"converted\"])\n",
    "print(\"Table de contingence :\\n\", table)\n",
    "\n",
    "# Test du Chi²\n",
    "chi2, p_value, dof, expected = chi2_contingency(table)\n",
    "\n",
    "print(\"\\nChi² test d'indépendance :\")\n",
    "print(\" - Chi² :\", chi2)\n",
    "print(\" - ddl :\", dof)\n",
    "print(\" - p-value :\", p_value)\n",
    "\n",
    "\n",
    "if p_value < 0.05:\n",
    "    print(\"Différence significative\")\n",
    "else:\n",
    "    print(\"Pas de différence significative\")\n"
   ]
  },
  {
   "cell_type": "markdown",
   "id": "258518af",
   "metadata": {},
   "source": [
    "####  Les résutats des tests statistiques que nous avons effectués(z-proportion et chi2) montre que l'hypothèse H0 ne peut pas être rehetée car la -value est > à 0.05. Alors, il y'a pas différences significatives entre les deux versions de la page du site web."
   ]
  },
  {
   "cell_type": "markdown",
   "id": "902aaa7e",
   "metadata": {},
   "source": [
    "### Différence de conversion entre groupes"
   ]
  },
  {
   "cell_type": "code",
   "execution_count": 54,
   "id": "bb0d5969",
   "metadata": {},
   "outputs": [
    {
     "name": "stdout",
     "output_type": "stream",
     "text": [
      "Différence de conversion (treatment - control) : -0.0015782389853555567\n"
     ]
    }
   ],
   "source": [
    "# Taux de conversion par groupe\n",
    "conv_rates = df_clean.groupby(\"group\")[\"converted\"].mean()\n",
    "\n",
    "diff = conv_rates[\"treatment\"] - conv_rates[\"control\"]\n",
    "print(\"Différence de conversion (treatment - control) :\", diff)\n"
   ]
  },
  {
   "cell_type": "markdown",
   "id": "8f83e168",
   "metadata": {},
   "source": [
    "### Intervalle de confiance à 95 %"
   ]
  },
  {
   "cell_type": "code",
   "execution_count": 56,
   "id": "46322ff2",
   "metadata": {},
   "outputs": [
    {
     "name": "stdout",
     "output_type": "stream",
     "text": [
      "Différence : -0.0015782389853555567\n",
      "Intervalle de confiance à 95% : (-0.003937903604443846, 0.0007814256337327326)\n"
     ]
    }
   ],
   "source": [
    "# Variables\n",
    "p_c = conv_rates[\"control\"]\n",
    "p_t = conv_rates[\"treatment\"]\n",
    "n_c = df_clean.query(\"group == 'control'\").shape[0]\n",
    "n_t = df_clean.query(\"group == 'treatment'\").shape[0]\n",
    "\n",
    "# Différence\n",
    "diff = p_t - p_c\n",
    "\n",
    "# Ecart-type de la différence\n",
    "SE = np.sqrt(p_c*(1-p_c)/n_c + p_t*(1-p_t)/n_t)\n",
    "\n",
    "# Intervalle de confiance\n",
    "z = 1.96   # pour 95%\n",
    "ci_lower = diff - z*SE\n",
    "ci_upper = diff + z*SE\n",
    "\n",
    "print(\"Différence :\", diff)\n",
    "print(\"Intervalle de confiance à 95% :\", (ci_lower, ci_upper))\n"
   ]
  },
  {
   "cell_type": "markdown",
   "id": "5e64aca8",
   "metadata": {},
   "source": [
    "### Bar plot comparant les taux de conversion"
   ]
  },
  {
   "cell_type": "code",
   "execution_count": 57,
   "id": "67634e5f",
   "metadata": {},
   "outputs": [
    {
     "data": {
      "image/png": "[encoded data removed]",
      "text/plain": [
       "<Figure size 640x480 with 1 Axes>"
      ]
     },
     "metadata": {},
     "output_type": "display_data"
    }
   ],
   "source": [
    "import matplotlib.pyplot as plt \n",
    "conv_rates.plot(kind=\"bar\", color=[\"skyblue\", \"lightgreen\"])\n",
    "plt.ylabel(\"Taux de conversion\")\n",
    "plt.title(\"Comparaison des taux de conversion\")\n",
    "plt.xticks(rotation=0) \n",
    "plt.show()\n",
    " "
   ]
  },
  {
   "cell_type": "markdown",
   "id": "e7d4b767",
   "metadata": {},
   "source": [
    "### Courbes cumulées (conversion au fil du temps) "
   ]
  },
  {
   "cell_type": "code",
   "execution_count": 58,
   "id": "79cfe5f9",
   "metadata": {},
   "outputs": [
    {
     "data": {
      "image/png": "[encoded data removed]",
      "text/plain": [
       "<Figure size 640x480 with 1 Axes>"
      ]
     },
     "metadata": {},
     "output_type": "display_data"
    }
   ],
   "source": [
    "# Conversion cumulée par groupe dans le temps\n",
    "df_clean[\"timestamp\"] = pd.to_datetime(df_clean[\"timestamp\"])\n",
    "\n",
    "cumulative = (\n",
    "    df_clean\n",
    "    .sort_values(\"timestamp\")\n",
    "    .groupby([\"group\"])\n",
    "    .apply(lambda x: x[\"converted\"].expanding().mean())\n",
    "    .reset_index(level=0)\n",
    ")\n",
    "\n",
    "# Tracer les courbes\n",
    "for grp in cumulative[\"group\"].unique():\n",
    "    plt.plot(cumulative[cumulative[\"group\"] == grp].index,\n",
    "             cumulative[cumulative[\"group\"] == grp][\"converted\"],\n",
    "             label=grp)\n",
    "\n",
    "plt.legend()\n",
    "plt.xlabel(\"Observation (ordonnée par temps)\")\n",
    "plt.ylabel(\"Taux de conversion cumulatif\")\n",
    "plt.title(\"Évolution des conversions dans le temps\")\n",
    "plt.show()\n"
   ]
  }
 ],
 "metadata": {
  "kernelspec": {
   "display_name": "base",
   "language": "python",
   "name": "python3"
  },
  "language_info": {
   "codemirror_mode": {
    "name": "ipython",
    "version": 3
   },
   "file_extension": ".py",
   "mimetype": "text/x-python",
   "name": "python",
   "nbconvert_exporter": "python",
   "pygments_lexer": "ipython3",
   "version": "3.11.7"
  }
 },
 "nbformat": 4,
 "nbformat_minor": 5
}
